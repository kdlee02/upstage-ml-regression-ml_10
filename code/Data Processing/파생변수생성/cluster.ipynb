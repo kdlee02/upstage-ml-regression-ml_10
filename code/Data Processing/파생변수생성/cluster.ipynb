{
 "cells": [
  {
   "cell_type": "code",
   "execution_count": null,
   "id": "2a6aba19",
   "metadata": {},
   "outputs": [],
   "source": [
    "import numpy as np\n",
    "from sklearn.preprocessing import StandardScaler\n",
    "from pyproj import Transformer\n",
    "\n",
    "\n",
    "df = main.unique(['lat','long'])\n",
    "coords = df.select(['lat','long']).to_numpy()\n",
    "transformer = Transformer.from_crs(\"EPSG:4326\", \"EPSG:3857\", always_xy=True)\n",
    "projected_coords = np.array([transformer.transform(lon, lat) for lat, lon in coords])\n",
    "scale = StandardScaler().fit(projected_coords)\n",
    "projected_coords = scale.transform(projected_coords)\n",
    "\n",
    "\n",
    "df2 = test.unique(['lat','long'])\n",
    "coords2 = df2.select(['lat','long']).to_numpy()\n",
    "projected_coords2 = np.array([transformer.transform(lon, lat) for lat, lon in coords2])\n",
    "projected_coords2 = scale.transform(projected_coords2)\n"
   ]
  },
  {
   "cell_type": "markdown",
   "id": "28a46793",
   "metadata": {},
   "source": [
    "KNN"
   ]
  },
  {
   "cell_type": "code",
   "execution_count": null,
   "id": "3fe1ebe2",
   "metadata": {},
   "outputs": [],
   "source": [
    "from sklearn.cluster import KMeans\n",
    "import polars as pl\n",
    "\n",
    "kmeans = KMeans(n_clusters=150, random_state=42)  \n",
    "kmeans.fit(projected_coords)\n",
    "\n",
    "labels = kmeans.labels_\n",
    "df = df.with_columns(pl.Series(\"cluster\", labels))\n",
    "\n",
    "labels2 = kmeans.predict(projected_coords2)\n",
    "df2 = df2.with_columns(pl.Series(\"cluster\", labels2))"
   ]
  },
  {
   "cell_type": "markdown",
   "id": "41a7894d",
   "metadata": {},
   "source": [
    "DBSCAN"
   ]
  },
  {
   "cell_type": "code",
   "execution_count": null,
   "id": "ff2d4f38",
   "metadata": {},
   "outputs": [],
   "source": [
    "import hdbscan\n",
    "\n",
    "clusterer = hdbscan.HDBSCAN(\n",
    "    min_cluster_size=5,\n",
    "    min_samples=3,\n",
    "    metric='euclidean',\n",
    "    prediction_data=True\n",
    ").fit(projected_coords)\n",
    "\n",
    "labels = clusterer.labels_\n",
    "df = df.with_columns(pl.Series(\"cluster\", labels))\n",
    "\n",
    "\n",
    "labels2, strengths = hdbscan.approximate_predict(clusterer, projected_coords2)\n",
    "df2 = df2.with_columns(pl.Series(\"cluster\", labels2))"
   ]
  },
  {
   "cell_type": "markdown",
   "id": "fbf62ecd",
   "metadata": {},
   "source": [
    "Visualization"
   ]
  },
  {
   "cell_type": "code",
   "execution_count": null,
   "id": "7cdf715b",
   "metadata": {},
   "outputs": [],
   "source": [
    "chart = alt.Chart(df).mark_circle(size=10).encode(\n",
    "    longitude='long:Q',\n",
    "    latitude='lat:Q',\n",
    "    color='cluster:N',\n",
    "    tooltip=['cluster']\n",
    ").project(\n",
    "    type='mercator'\n",
    ").properties(\n",
    "    width=600,\n",
    "    height=400,\n",
    ").interactive()\n",
    "chart"
   ]
  },
  {
   "cell_type": "code",
   "execution_count": null,
   "id": "c409b514",
   "metadata": {},
   "outputs": [],
   "source": [
    "main = main.join(df.select(['lat', 'long', 'cluster']), \n",
    "on=['lat', 'long'], how='left').select(pl.exclude(['아파트명','지역']))\n",
    "test = test.join(df2.select(['lat', 'long', 'cluster']), \n",
    "on=['lat', 'long'], how='left').select(pl.exclude(['아파트명','지역']))"
   ]
  }
 ],
 "metadata": {
  "kernelspec": {
   "display_name": "rapids-25.04",
   "language": "python",
   "name": "python3"
  },
  "language_info": {
   "name": "python",
   "version": "3.10.17"
  }
 },
 "nbformat": 4,
 "nbformat_minor": 5
}
