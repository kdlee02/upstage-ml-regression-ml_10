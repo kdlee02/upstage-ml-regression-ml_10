{
 "cells": [
  {
   "cell_type": "code",
   "execution_count": null,
   "id": "19402178",
   "metadata": {},
   "outputs": [],
   "source": [
    "main = main.join(exchange_rate, left_on='계약년월', right_on='date', how='left')\n",
    "main = main.join(interest_rate, left_on='계약년월', right_on='date', how='left')\n",
    "main = main.join(cpi, left_on='계약년월', right_on='date', how='left')\n",
    "\n",
    "main = main.with_columns(\n",
    "    (pl.col('interest_rate') - pl.col('cpi')).alias('real_rates')\n",
    ")\n",
    "\n",
    "test = test.join(exchange_rate, left_on='계약년월', right_on='date', how='left')\n",
    "test = test.join(interest_rate, left_on='계약년월', right_on='date', how='left')\n",
    "test = test.join(cpi, left_on='계약년월', right_on='date', how='left')\n",
    "\n",
    "test = test.with_columns(\n",
    "    (pl.col('interest_rate') - pl.col('cpi')).alias('real_rates')\n",
    ")"
   ]
  }
 ],
 "metadata": {
  "language_info": {
   "name": "python"
  }
 },
 "nbformat": 4,
 "nbformat_minor": 5
}
