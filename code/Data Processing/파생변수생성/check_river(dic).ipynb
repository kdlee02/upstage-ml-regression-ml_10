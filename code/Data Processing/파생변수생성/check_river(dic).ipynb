{
 "cells": [
  {
   "cell_type": "code",
   "execution_count": 32,
   "id": "b3e8f037",
   "metadata": {},
   "outputs": [],
   "source": [
    "import pandas as pd\n",
    "\n",
    "def xymaker(df):\n",
    "    df[\"long\"] = df[\"long\"].round(5)\n",
    "    df[\"lat\"] = df[\"lat\"].round(5)\n",
    "    \n",
    "    unique_df = df.drop_duplicates(subset=[\"long\", \"lat\"])\n",
    "    return unique_df[[\"long\", \"lat\"]].values.tolist()"
   ]
  },
  {
   "cell_type": "code",
   "execution_count": 33,
   "id": "5bea7e9c",
   "metadata": {},
   "outputs": [],
   "source": [
    "\n",
    "def xymaker(df):\n",
    "    df[\"long\"] = df[\"long\"].round(5)\n",
    "    df[\"lat\"] = df[\"lat\"].round(5)\n",
    "    \n",
    "    unique_df = df.drop_duplicates(subset=[\"long\", \"lat\"])\n",
    "    return unique_df[[\"long\", \"lat\"]].values.tolist()"
   ]
  },
  {
   "cell_type": "code",
   "execution_count": 34,
   "id": "96c9af34",
   "metadata": {},
   "outputs": [
    {
     "name": "stderr",
     "output_type": "stream",
     "text": [
      "/tmp/ipykernel_557532/278793494.py:4: DtypeWarning: Columns (10,13,14,16,17) have mixed types. Specify dtype option on import or set low_memory=False.\n",
      "  home_data = pd.read_csv(\"main.csv\")\n"
     ]
    },
    {
     "data": {
      "text/plain": [
       "[[127.05609, 37.48463],\n",
       " [127.07613, 37.49629],\n",
       " [127.05785, 37.48029],\n",
       " [127.06903, 37.48791],\n",
       " [127.07087, 37.48914],\n",
       " [127.03827, 37.51509],\n",
       " [127.02898, 37.51386],\n",
       " [127.03842, 37.50953],\n",
       " [127.05885, 37.49664]]"
      ]
     },
     "execution_count": 34,
     "metadata": {},
     "output_type": "execute_result"
    }
   ],
   "source": [
    "#home_Data만 바꾸시면 됩니다!\n",
    "\n",
    "\n",
    "home_data = pd.read_csv(\"main.csv\")\n",
    "\n",
    "home_list = xymaker(home_data)\n",
    "\n",
    "home_list[1:10]"
   ]
  },
  {
   "cell_type": "code",
   "execution_count": 35,
   "id": "f12e37fb",
   "metadata": {},
   "outputs": [],
   "source": [
    "bridge_list =  [\n",
    "    [126.8053, 37.5895],  # 김포대교\n",
    "    [126.8324, 37.5865],  # 행주대교\n",
    "    [126.8701, 37.5714],  # 가양대교\n",
    "    [126.8776, 37.5582],  # 성산대교\n",
    "    [126.8840, 37.5468],  # 양화대교\n",
    "    [126.8965, 37.5418],  # 마포대교\n",
    "    [126.9097, 37.5381],  # 원효대교\n",
    "    [126.9252, 37.5286],  # 한강대교\n",
    "    [126.9435, 37.5225],  # 동작대교\n",
    "    [126.9605, 37.5201],  # 반포대교\n",
    "    [126.9738, 37.5180],  # 잠수교\n",
    "    [126.9909, 37.5194],  # 한남대교\n",
    "    [127.0115, 37.5233],  # 동호대교\n",
    "    [127.0205, 37.5247],  # 성수대교\n",
    "    [127.0376, 37.5264],  # 영동대교\n",
    "    [127.0572, 37.5279],  # 청담대교\n",
    "    [127.0701, 37.5352],  # 잠실대교\n",
    "    [127.0842, 37.5374],  # 올림픽대교\n",
    "    [127.1035, 37.5390],  # 천호대교\n",
    "    [127.1169, 37.5394],  # 광진교\n",
    "]\n",
    "    \n",
    " \n",
    "    "
   ]
  },
  {
   "cell_type": "code",
   "execution_count": 36,
   "id": "a34e983b",
   "metadata": {},
   "outputs": [],
   "source": [
    "import math\n",
    "\n",
    "def haversine(lat1, lon1, lat2, lon2):\n",
    "    R = 6371.0\n",
    "    \n",
    "    lat1_rad = math.radians(lat1)\n",
    "    lon1_rad = math.radians(lon1)\n",
    "    lat2_rad = math.radians(lat2)\n",
    "    lon2_rad = math.radians(lon2)\n",
    "\n",
    "    dlat = lat2_rad - lat1_rad\n",
    "    dlon = lon2_rad - lon1_rad\n",
    "    \n",
    "    a = math.sin(dlat / 2)**2 + math.cos(lat1_rad) * math.cos(lat2_rad) * math.sin(dlon / 2)**2\n",
    "    c = 2 * math.atan2(math.sqrt(a), math.sqrt(1 - a))\n",
    "    \n",
    "    distance = R * c\n",
    "    return distance"
   ]
  },
  {
   "cell_type": "code",
   "execution_count": 37,
   "id": "4815a86d",
   "metadata": {},
   "outputs": [],
   "source": [
    "from collections import defaultdict\n",
    "\n",
    "def count_apartments_within_range(apt_coords, reference_coords, distance_threshold):\n",
    "   \n",
    "    count_dict = defaultdict(int)\n",
    "\n",
    "    for apt_lat, apt_lon in apt_coords:\n",
    "        for ref_lat, ref_lon in reference_coords:\n",
    "            distance = haversine(apt_lat, apt_lon, ref_lat, ref_lon)\n",
    "            if distance <= distance_threshold:\n",
    "                count_dict[(apt_lat, apt_lon)] += 1  \n",
    "\n",
    "    return count_dict\n"
   ]
  },
  {
   "cell_type": "code",
   "execution_count": null,
   "id": "aec6f20f",
   "metadata": {},
   "outputs": [
    {
     "data": {
      "text/html": [
       "<div>\n",
       "<style scoped>\n",
       "    .dataframe tbody tr th:only-of-type {\n",
       "        vertical-align: middle;\n",
       "    }\n",
       "\n",
       "    .dataframe tbody tr th {\n",
       "        vertical-align: top;\n",
       "    }\n",
       "\n",
       "    .dataframe thead th {\n",
       "        text-align: right;\n",
       "    }\n",
       "</style>\n",
       "<table border=\"1\" class=\"dataframe\">\n",
       "  <thead>\n",
       "    <tr style=\"text-align: right;\">\n",
       "      <th></th>\n",
       "      <th>시군구</th>\n",
       "      <th>번지</th>\n",
       "      <th>본번</th>\n",
       "      <th>부번</th>\n",
       "      <th>아파트명</th>\n",
       "      <th>전용면적(㎡)</th>\n",
       "      <th>계약년월</th>\n",
       "      <th>계약일</th>\n",
       "      <th>층</th>\n",
       "      <th>건축년도</th>\n",
       "      <th>...</th>\n",
       "      <th>단지승인일</th>\n",
       "      <th>사용허가여부</th>\n",
       "      <th>관리비 업로드</th>\n",
       "      <th>X</th>\n",
       "      <th>Y</th>\n",
       "      <th>단지신청일</th>\n",
       "      <th>target</th>\n",
       "      <th>long</th>\n",
       "      <th>lat</th>\n",
       "      <th>한강변</th>\n",
       "    </tr>\n",
       "  </thead>\n",
       "  <tbody>\n",
       "    <tr>\n",
       "      <th>0</th>\n",
       "      <td>서울특별시 강남구 개포동</td>\n",
       "      <td>658-1</td>\n",
       "      <td>658.0</td>\n",
       "      <td>1.0</td>\n",
       "      <td>개포6차우성</td>\n",
       "      <td>79.97</td>\n",
       "      <td>201712</td>\n",
       "      <td>8</td>\n",
       "      <td>3</td>\n",
       "      <td>1987</td>\n",
       "      <td>...</td>\n",
       "      <td>2022-11-17 13:00:29.0</td>\n",
       "      <td>Y</td>\n",
       "      <td>N</td>\n",
       "      <td>127.05721</td>\n",
       "      <td>37.476763</td>\n",
       "      <td>2022-11-17 10:19:06.0</td>\n",
       "      <td>124000</td>\n",
       "      <td>127.05593</td>\n",
       "      <td>37.47679</td>\n",
       "      <td>1</td>\n",
       "    </tr>\n",
       "    <tr>\n",
       "      <th>1</th>\n",
       "      <td>서울특별시 강남구 개포동</td>\n",
       "      <td>658-1</td>\n",
       "      <td>658.0</td>\n",
       "      <td>1.0</td>\n",
       "      <td>개포6차우성</td>\n",
       "      <td>79.97</td>\n",
       "      <td>201712</td>\n",
       "      <td>22</td>\n",
       "      <td>4</td>\n",
       "      <td>1987</td>\n",
       "      <td>...</td>\n",
       "      <td>2022-11-17 13:00:29.0</td>\n",
       "      <td>Y</td>\n",
       "      <td>N</td>\n",
       "      <td>127.05721</td>\n",
       "      <td>37.476763</td>\n",
       "      <td>2022-11-17 10:19:06.0</td>\n",
       "      <td>123500</td>\n",
       "      <td>127.05593</td>\n",
       "      <td>37.47679</td>\n",
       "      <td>1</td>\n",
       "    </tr>\n",
       "    <tr>\n",
       "      <th>2</th>\n",
       "      <td>서울특별시 강남구 개포동</td>\n",
       "      <td>658-1</td>\n",
       "      <td>658.0</td>\n",
       "      <td>1.0</td>\n",
       "      <td>개포6차우성</td>\n",
       "      <td>54.98</td>\n",
       "      <td>201712</td>\n",
       "      <td>28</td>\n",
       "      <td>5</td>\n",
       "      <td>1987</td>\n",
       "      <td>...</td>\n",
       "      <td>2022-11-17 13:00:29.0</td>\n",
       "      <td>Y</td>\n",
       "      <td>N</td>\n",
       "      <td>127.05721</td>\n",
       "      <td>37.476763</td>\n",
       "      <td>2022-11-17 10:19:06.0</td>\n",
       "      <td>91500</td>\n",
       "      <td>127.05593</td>\n",
       "      <td>37.47679</td>\n",
       "      <td>1</td>\n",
       "    </tr>\n",
       "    <tr>\n",
       "      <th>3</th>\n",
       "      <td>서울특별시 강남구 개포동</td>\n",
       "      <td>658-1</td>\n",
       "      <td>658.0</td>\n",
       "      <td>1.0</td>\n",
       "      <td>개포6차우성</td>\n",
       "      <td>79.97</td>\n",
       "      <td>201801</td>\n",
       "      <td>3</td>\n",
       "      <td>4</td>\n",
       "      <td>1987</td>\n",
       "      <td>...</td>\n",
       "      <td>2022-11-17 13:00:29.0</td>\n",
       "      <td>Y</td>\n",
       "      <td>N</td>\n",
       "      <td>127.05721</td>\n",
       "      <td>37.476763</td>\n",
       "      <td>2022-11-17 10:19:06.0</td>\n",
       "      <td>130000</td>\n",
       "      <td>127.05593</td>\n",
       "      <td>37.47679</td>\n",
       "      <td>1</td>\n",
       "    </tr>\n",
       "    <tr>\n",
       "      <th>4</th>\n",
       "      <td>서울특별시 강남구 개포동</td>\n",
       "      <td>658-1</td>\n",
       "      <td>658.0</td>\n",
       "      <td>1.0</td>\n",
       "      <td>개포6차우성</td>\n",
       "      <td>79.97</td>\n",
       "      <td>201801</td>\n",
       "      <td>8</td>\n",
       "      <td>2</td>\n",
       "      <td>1987</td>\n",
       "      <td>...</td>\n",
       "      <td>2022-11-17 13:00:29.0</td>\n",
       "      <td>Y</td>\n",
       "      <td>N</td>\n",
       "      <td>127.05721</td>\n",
       "      <td>37.476763</td>\n",
       "      <td>2022-11-17 10:19:06.0</td>\n",
       "      <td>117000</td>\n",
       "      <td>127.05593</td>\n",
       "      <td>37.47679</td>\n",
       "      <td>1</td>\n",
       "    </tr>\n",
       "  </tbody>\n",
       "</table>\n",
       "<p>5 rows × 55 columns</p>\n",
       "</div>"
      ],
      "text/plain": [
       "             시군구     번지     본번   부번    아파트명  전용면적(㎡)    계약년월  계약일  층  건축년도  \\\n",
       "0  서울특별시 강남구 개포동  658-1  658.0  1.0  개포6차우성    79.97  201712    8  3  1987   \n",
       "1  서울특별시 강남구 개포동  658-1  658.0  1.0  개포6차우성    79.97  201712   22  4  1987   \n",
       "2  서울특별시 강남구 개포동  658-1  658.0  1.0  개포6차우성    54.98  201712   28  5  1987   \n",
       "3  서울특별시 강남구 개포동  658-1  658.0  1.0  개포6차우성    79.97  201801    3  4  1987   \n",
       "4  서울특별시 강남구 개포동  658-1  658.0  1.0  개포6차우성    79.97  201801    8  2  1987   \n",
       "\n",
       "   ...                  단지승인일  사용허가여부  관리비 업로드          X          Y  \\\n",
       "0  ...  2022-11-17 13:00:29.0       Y        N  127.05721  37.476763   \n",
       "1  ...  2022-11-17 13:00:29.0       Y        N  127.05721  37.476763   \n",
       "2  ...  2022-11-17 13:00:29.0       Y        N  127.05721  37.476763   \n",
       "3  ...  2022-11-17 13:00:29.0       Y        N  127.05721  37.476763   \n",
       "4  ...  2022-11-17 13:00:29.0       Y        N  127.05721  37.476763   \n",
       "\n",
       "                   단지신청일  target       long       lat 한강변  \n",
       "0  2022-11-17 10:19:06.0  124000  127.05593  37.47679   1  \n",
       "1  2022-11-17 10:19:06.0  123500  127.05593  37.47679   1  \n",
       "2  2022-11-17 10:19:06.0   91500  127.05593  37.47679   1  \n",
       "3  2022-11-17 10:19:06.0  130000  127.05593  37.47679   1  \n",
       "4  2022-11-17 10:19:06.0  117000  127.05593  37.47679   1  \n",
       "\n",
       "[5 rows x 55 columns]"
      ]
     },
     "execution_count": 38,
     "metadata": {},
     "output_type": "execute_result"
    }
   ],
   "source": [
    "apt_coords = home_list \n",
    "reference_coords = bridge_list\n",
    "\n",
    "\n",
    "count_dict = count_apartments_within_range(apt_coords, reference_coords, 3.5) # 3.5 거리 값은 원하는데로 바꾸셔도 됩니다! \n",
    "\n",
    "\n",
    "home_data['한강변'] = home_data.apply(lambda row: count_dict.get((row['long'], row['lat']), 0), axis=1)\n",
    "\n",
    "home_data.head()"
   ]
  },
  {
   "cell_type": "code",
   "execution_count": 39,
   "id": "3b67c40d",
   "metadata": {},
   "outputs": [
    {
     "data": {
      "text/plain": [
       "0    487801\n",
       "3    219697\n",
       "4    184692\n",
       "2    132160\n",
       "1     76922\n",
       "5     26428\n",
       "6       498\n",
       "Name: 한강변, dtype: int64"
      ]
     },
     "execution_count": 39,
     "metadata": {},
     "output_type": "execute_result"
    }
   ],
   "source": [
    "home_data['한강변'].value_counts()"
   ]
  },
  {
   "cell_type": "code",
   "execution_count": 40,
   "id": "b00c0af7",
   "metadata": {},
   "outputs": [
    {
     "data": {
      "text/plain": [
       "한강변\n",
       "0    40788.338808\n",
       "1    59027.761837\n",
       "2    59357.604865\n",
       "3    70909.620159\n",
       "4    85857.614634\n",
       "5    65275.249357\n",
       "6    47854.136546\n",
       "Name: target, dtype: float64"
      ]
     },
     "execution_count": 40,
     "metadata": {},
     "output_type": "execute_result"
    }
   ],
   "source": [
    "home_data.groupby(\"한강변\")[\"target\"].mean()"
   ]
  },
  {
   "cell_type": "code",
   "execution_count": 41,
   "id": "0dce889c",
   "metadata": {},
   "outputs": [
    {
     "name": "stdout",
     "output_type": "stream",
     "text": [
      "상관계수: 0.3504841116582601\n"
     ]
    }
   ],
   "source": [
    "correlation = home_data[\"한강변\"].corr(home_data[\"target\"])\n",
    "print(f\"상관계수: {correlation}\")\n"
   ]
  }
 ],
 "metadata": {
  "kernelspec": {
   "display_name": "base",
   "language": "python",
   "name": "python3"
  },
  "language_info": {
   "codemirror_mode": {
    "name": "ipython",
    "version": 3
   },
   "file_extension": ".py",
   "mimetype": "text/x-python",
   "name": "python",
   "nbconvert_exporter": "python",
   "pygments_lexer": "ipython3",
   "version": "3.10.13"
  }
 },
 "nbformat": 4,
 "nbformat_minor": 5
}
