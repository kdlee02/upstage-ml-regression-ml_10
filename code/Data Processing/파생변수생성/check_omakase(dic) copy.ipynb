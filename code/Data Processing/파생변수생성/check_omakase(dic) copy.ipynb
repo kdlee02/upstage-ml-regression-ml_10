{
 "cells": [
  {
   "cell_type": "code",
   "execution_count": 13,
   "id": "b3e8f037",
   "metadata": {},
   "outputs": [],
   "source": [
    "import pandas as pd\n",
    "\n",
    "def xymaker(df):\n",
    "    df[\"long\"] = df[\"long\"].round(5)\n",
    "    df[\"lat\"] = df[\"lat\"].round(5)\n",
    "    \n",
    "    unique_df = df.drop_duplicates(subset=[\"long\", \"lat\"])\n",
    "    return unique_df[[\"long\", \"lat\"]].values.tolist()"
   ]
  },
  {
   "cell_type": "code",
   "execution_count": 14,
   "id": "de6acdc1",
   "metadata": {},
   "outputs": [],
   "source": [
    "import pandas as pd\n",
    "\n",
    "def xymaker(df):\n",
    "    df[\"long\"] = df[\"long\"].round(5)\n",
    "    df[\"lat\"] = df[\"lat\"].round(5)\n",
    "    \n",
    "    unique_df = df.drop_duplicates(subset=[\"long\", \"lat\"])\n",
    "    return unique_df[[\"long\", \"lat\"]].values.tolist()"
   ]
  },
  {
   "cell_type": "code",
   "execution_count": 15,
   "id": "5bea7e9c",
   "metadata": {},
   "outputs": [],
   "source": [
    "import pandas as pd\n",
    "\n",
    "def xymaker(df):\n",
    "    df[\"long\"] = df[\"long\"].round(5)\n",
    "    df[\"lat\"] = df[\"lat\"].round(5)\n",
    "    \n",
    "    unique_df = df.drop_duplicates(subset=[\"long\", \"lat\"])\n",
    "    return unique_df[[\"long\", \"lat\"]].values.tolist()"
   ]
  },
  {
   "cell_type": "code",
   "execution_count": 16,
   "id": "96c9af34",
   "metadata": {},
   "outputs": [
    {
     "name": "stderr",
     "output_type": "stream",
     "text": [
      "/tmp/ipykernel_558042/886316247.py:1: DtypeWarning: Columns (10,13,14,16,17) have mixed types. Specify dtype option on import or set low_memory=False.\n",
      "  home_data = pd.read_csv(\"main.csv\")\n"
     ]
    },
    {
     "data": {
      "text/plain": [
       "[[127.05609, 37.48463],\n",
       " [127.07613, 37.49629],\n",
       " [127.05785, 37.48029],\n",
       " [127.06903, 37.48791],\n",
       " [127.07087, 37.48914],\n",
       " [127.03827, 37.51509],\n",
       " [127.02898, 37.51386],\n",
       " [127.03842, 37.50953],\n",
       " [127.05885, 37.49664]]"
      ]
     },
     "execution_count": 16,
     "metadata": {},
     "output_type": "execute_result"
    }
   ],
   "source": [
    "home_data = pd.read_csv(\"main.csv\")\n",
    "\n",
    "home_list = xymaker(home_data)\n",
    "\n",
    "home_list[1:10]"
   ]
  },
  {
   "cell_type": "code",
   "execution_count": 17,
   "id": "f12e37fb",
   "metadata": {},
   "outputs": [],
   "source": [
    "omakase_list = [\n",
    " [126.9827, 37.5641],\n",
    " [126.995, 37.5615],\n",
    " [127.0286, 37.5245],\n",
    " [127.0347, 37.5238],\n",
    " [127.035, 37.525],\n",
    " [127.034, 37.5255],\n",
    " [127.0345, 37.5235],\n",
    " [127.063, 37.51],\n",
    " [127.0348, 37.5252],\n",
    " [127.0346, 37.5239],\n",
    " [127.0349, 37.5237],\n",
    " [127.0341, 37.5253],\n",
    " [127.0342, 37.5251],\n",
    " [127.0344, 37.5236],\n",
    " [127.0343, 37.5238],\n",
    " [127.048, 37.503],\n",
    " [127.0, 37.535],\n",
    " [127.034, 37.524],\n",
    " [127.098, 37.511],\n",
    " [127.0276, 37.4979],\n",
    " [126.9768, 37.5715],\n",
    " [126.993, 37.49],\n",
    " [126.9935, 37.4905],\n",
    " [126.954, 37.542],\n",
    " [126.922, 37.602],\n",
    " [126.924, 37.521],\n",
    " [126.867, 37.529],\n",
    " [127.0345, 37.5254],\n",
    " [127.0346, 37.5255],\n",
    " [127.0347, 37.5256],\n",
    " [127.034, 37.523],\n",
    " [126.89, 37.577],\n",
    " [126.993, 37.49],\n",
    " [126.9931, 37.4901],\n",
    " [127.0341, 37.5241],\n",
    " [126.925, 37.525],\n",
    " [127.065, 37.62],\n",
    " [126.91, 37.58],\n",
    " [126.99, 37.49],\n",
    " [126.944, 37.56],\n",
    " [127.034, 37.525],\n",
    " [127.021, 37.517],\n",
    " [127.037, 37.561],\n",
    " [127.0, 37.535],\n",
    " [127.034, 37.524],\n",
    " [127.034, 37.525],\n",
    " [127.034, 37.524],\n",
    " [127.034, 37.524],\n",
    " [127.034, 37.523]\n",
    "]"
   ]
  },
  {
   "cell_type": "code",
   "execution_count": 18,
   "id": "a34e983b",
   "metadata": {},
   "outputs": [],
   "source": [
    "import math\n",
    "\n",
    "def haversine(lat1, lon1, lat2, lon2):\n",
    "    R = 6371.0\n",
    "    \n",
    "    lat1_rad = math.radians(lat1)\n",
    "    lon1_rad = math.radians(lon1)\n",
    "    lat2_rad = math.radians(lat2)\n",
    "    lon2_rad = math.radians(lon2)\n",
    "\n",
    "    dlat = lat2_rad - lat1_rad\n",
    "    dlon = lon2_rad - lon1_rad\n",
    "    \n",
    "    a = math.sin(dlat / 2)**2 + math.cos(lat1_rad) * math.cos(lat2_rad) * math.sin(dlon / 2)**2\n",
    "    c = 2 * math.atan2(math.sqrt(a), math.sqrt(1 - a))\n",
    "    \n",
    "    distance = R * c\n",
    "    return distance"
   ]
  },
  {
   "cell_type": "code",
   "execution_count": 19,
   "id": "4815a86d",
   "metadata": {},
   "outputs": [],
   "source": [
    "from collections import defaultdict\n",
    "\n",
    "def count_apartments_within_range(apt_coords, reference_coords, distance_threshold):\n",
    "    # 아파트 좌표별로 근접한 기준 좌표 수를 기록할 딕셔너리\n",
    "    count_dict = defaultdict(int)\n",
    "\n",
    "    for apt_lat, apt_lon in apt_coords:\n",
    "        for ref_lat, ref_lon in reference_coords:\n",
    "            distance = haversine(apt_lat, apt_lon, ref_lat, ref_lon)\n",
    "            if distance <= distance_threshold:\n",
    "                count_dict[(apt_lat, apt_lon)] += 1  # (long, lat) 순으로 저장\n",
    "\n",
    "    return count_dict\n"
   ]
  },
  {
   "cell_type": "code",
   "execution_count": 20,
   "id": "e6b91f21",
   "metadata": {},
   "outputs": [],
   "source": [
    "results = count_apartments_within_range(home_list, omakase_list, 3)"
   ]
  },
  {
   "cell_type": "code",
   "execution_count": null,
   "id": "aec6f20f",
   "metadata": {},
   "outputs": [],
   "source": [
    "apt_coords = home_list # (lat, long)\n",
    "reference_coords = omakase_list  # 기준 좌표 리스트\n",
    "\n",
    "# 근접 개수 계산\n",
    "count_dict = count_apartments_within_range(apt_coords, reference_coords, 3)\n",
    "\n",
    "home_data['오마카세'] = home_data.apply(lambda row: count_dict.get((row['long'], row['lat']), 0), axis=1)"
   ]
  },
  {
   "cell_type": "code",
   "execution_count": null,
   "id": "3b67c40d",
   "metadata": {},
   "outputs": [
    {
     "data": {
      "text/plain": [
       "1     388866\n",
       "0     182535\n",
       "2     143530\n",
       "3      77167\n",
       "4      50348\n",
       "6      49227\n",
       "5      49052\n",
       "29     26365\n",
       "28     24848\n",
       "34     19480\n",
       "30     16793\n",
       "31     14916\n",
       "26     12444\n",
       "27     11713\n",
       "7      11522\n",
       "33      8377\n",
       "11      7521\n",
       "25      6478\n",
       "9       4521\n",
       "12      4140\n",
       "36      4032\n",
       "8       3081\n",
       "10      2367\n",
       "32      2330\n",
       "22      2323\n",
       "35      2028\n",
       "23       565\n",
       "17       432\n",
       "15       429\n",
       "24       230\n",
       "16       130\n",
       "20       118\n",
       "13       118\n",
       "18       112\n",
       "37        47\n",
       "14        12\n",
       "19         1\n",
       "Name: 오마카세세, dtype: int64"
      ]
     },
     "execution_count": 22,
     "metadata": {},
     "output_type": "execute_result"
    }
   ],
   "source": [
    "home_data['오마카세'].value_counts()"
   ]
  },
  {
   "cell_type": "code",
   "execution_count": null,
   "id": "b00c0af7",
   "metadata": {},
   "outputs": [
    {
     "data": {
      "text/plain": [
       "오마카세세\n",
       "0      45177.498167\n",
       "1      45089.050845\n",
       "2      54479.268738\n",
       "3      59314.949421\n",
       "4      60022.548403\n",
       "5      57346.741907\n",
       "6      61466.069068\n",
       "7      75281.383440\n",
       "8      77965.033106\n",
       "9     123009.844725\n",
       "10    151446.385298\n",
       "11    138258.745513\n",
       "12    104704.769082\n",
       "13     65790.847458\n",
       "14     33325.000000\n",
       "15     44792.053613\n",
       "16     63432.692308\n",
       "17     94562.018519\n",
       "18     50102.678571\n",
       "19     41500.000000\n",
       "20     74127.576271\n",
       "22     89524.799828\n",
       "23     57639.061947\n",
       "24     71602.413043\n",
       "25     59911.931923\n",
       "26     80356.866442\n",
       "27    128140.115854\n",
       "28     93255.218609\n",
       "29     92979.621771\n",
       "30     86800.192104\n",
       "31     74851.828909\n",
       "32     94487.708584\n",
       "33    138326.083920\n",
       "34    111236.197998\n",
       "35     92744.932939\n",
       "36    151829.480159\n",
       "37    170336.170213\n",
       "Name: target, dtype: float64"
      ]
     },
     "execution_count": 23,
     "metadata": {},
     "output_type": "execute_result"
    }
   ],
   "source": [
    "home_data.groupby(\"오마카세\")[\"target\"].mean()"
   ]
  },
  {
   "cell_type": "code",
   "execution_count": null,
   "id": "0dce889c",
   "metadata": {},
   "outputs": [
    {
     "name": "stdout",
     "output_type": "stream",
     "text": [
      "상관계수: 0.378911944410689\n"
     ]
    }
   ],
   "source": [
    "correlation = home_data[\"오마카세\"].corr(home_data[\"target\"])\n",
    "print(f\"상관계수: {correlation}\")\n"
   ]
  }
 ],
 "metadata": {
  "kernelspec": {
   "display_name": "base",
   "language": "python",
   "name": "python3"
  },
  "language_info": {
   "codemirror_mode": {
    "name": "ipython",
    "version": 3
   },
   "file_extension": ".py",
   "mimetype": "text/x-python",
   "name": "python",
   "nbconvert_exporter": "python",
   "pygments_lexer": "ipython3",
   "version": "3.10.13"
  }
 },
 "nbformat": 4,
 "nbformat_minor": 5
}
