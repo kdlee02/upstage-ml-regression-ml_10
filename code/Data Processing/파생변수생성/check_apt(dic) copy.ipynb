{
 "cells": [
  {
   "cell_type": "code",
   "execution_count": 1,
   "id": "b3e8f037",
   "metadata": {},
   "outputs": [],
   "source": [
    "import pandas as pd\n",
    "\n",
    "def xymaker(df):\n",
    "    df[\"long\"] = df[\"long\"].round(5)\n",
    "    df[\"lat\"] = df[\"lat\"].round(5)\n",
    "    \n",
    "    unique_df = df.drop_duplicates(subset=[\"long\", \"lat\"])\n",
    "    return unique_df[[\"long\", \"lat\"]].values.tolist()"
   ]
  },
  {
   "cell_type": "code",
   "execution_count": 2,
   "id": "5bea7e9c",
   "metadata": {},
   "outputs": [],
   "source": [
    "import pandas as pd\n",
    "\n",
    "def xymaker(df):\n",
    "    df[\"long\"] = df[\"long\"].round(5)\n",
    "    df[\"lat\"] = df[\"lat\"].round(5)\n",
    "    \n",
    "    unique_df = df.drop_duplicates(subset=[\"long\", \"lat\"])\n",
    "    return unique_df[[\"long\", \"lat\"]].values.tolist()"
   ]
  },
  {
   "cell_type": "code",
   "execution_count": 3,
   "id": "96c9af34",
   "metadata": {},
   "outputs": [
    {
     "name": "stderr",
     "output_type": "stream",
     "text": [
      "/tmp/ipykernel_506346/886316247.py:1: DtypeWarning: Columns (10,13,14,16,17) have mixed types. Specify dtype option on import or set low_memory=False.\n",
      "  home_data = pd.read_csv(\"main.csv\")\n"
     ]
    },
    {
     "data": {
      "text/plain": [
       "[[127.05609, 37.48463],\n",
       " [127.07613, 37.49629],\n",
       " [127.05785, 37.48029],\n",
       " [127.06903, 37.48791],\n",
       " [127.07087, 37.48914],\n",
       " [127.03827, 37.51509],\n",
       " [127.02898, 37.51386],\n",
       " [127.03842, 37.50953],\n",
       " [127.05885, 37.49664]]"
      ]
     },
     "execution_count": 3,
     "metadata": {},
     "output_type": "execute_result"
    }
   ],
   "source": [
    "home_data = pd.read_csv(\"main.csv\")\n",
    "\n",
    "home_list = xymaker(home_data)\n",
    "\n",
    "home_list[1:10]"
   ]
  },
  {
   "cell_type": "code",
   "execution_count": 4,
   "id": "f12e37fb",
   "metadata": {},
   "outputs": [],
   "source": [
    "apartment_list = [\n",
    "    [127.0206, 37.5341],  # 강남구 - 압구정 현대14차\n",
    "    [127.0450, 37.4935],  # 강남구 - 타워팰리스1차\n",
    "    [126.9959, 37.5133],  # 서초구 - 아크로리버파크\n",
    "    [127.0155, 37.4948],  # 서초구 - 래미안 원베일리\n",
    "    [127.0950, 37.5101],  # 송파구 - 잠실 리센츠\n",
    "    [127.0812, 37.5111],  # 송파구 - 잠실 엘스\n",
    "    [127.0004, 37.5350],  # 용산구 - 한남더힐\n",
    "    [127.0050, 37.5345],  # 용산구 - 나인원한남\n",
    "    [127.0445, 37.5446],  # 성동구 - 아크로서울포레스트\n",
    "    [127.0430, 37.5440],  # 성동구 - 갤러리아 포레\n",
    "    [126.9450, 37.5412],  # 마포구\n",
    "    [126.9683, 37.5705],  # 종로구\n",
    "    [126.9950, 37.5636],  # 중구\n",
    "    [126.9810, 37.5030],  # 동작구\n",
    "    [126.8700, 37.5300],  # 양천구\n",
    "    [126.8270, 37.5610],  # 강서구\n",
    "    [127.0670, 37.6440],  # 노원구\n",
    "    [127.0260, 37.6260],  # 강북구\n",
    "    [127.0440, 37.6670],  # 도봉구\n",
    "    [126.9180, 37.5990],  # 은평구\n",
    "    [126.9090, 37.5790],  # 서대문구\n",
    "    [127.0870, 37.5880],  # 중랑구\n",
    "    [127.0650, 37.5940],  # 동대문구\n",
    "    [127.0230, 37.6030],  # 성북구\n",
    "    [127.1030, 37.5460],  # 광진구\n",
    "    [126.8890, 37.4950],  # 구로구\n",
    "    [126.9000, 37.4560],  # 금천구\n",
    "    [126.9510, 37.4840],  # 관악구\n",
    "    [127.1540, 37.5610],  # 강동구\n",
    "]\n",
    " \n",
    "    "
   ]
  },
  {
   "cell_type": "code",
   "execution_count": 5,
   "id": "a34e983b",
   "metadata": {},
   "outputs": [],
   "source": [
    "import math\n",
    "\n",
    "def haversine(lat1, lon1, lat2, lon2):\n",
    "    R = 6371.0\n",
    "    \n",
    "    lat1_rad = math.radians(lat1)\n",
    "    lon1_rad = math.radians(lon1)\n",
    "    lat2_rad = math.radians(lat2)\n",
    "    lon2_rad = math.radians(lon2)\n",
    "\n",
    "    dlat = lat2_rad - lat1_rad\n",
    "    dlon = lon2_rad - lon1_rad\n",
    "    \n",
    "    a = math.sin(dlat / 2)**2 + math.cos(lat1_rad) * math.cos(lat2_rad) * math.sin(dlon / 2)**2\n",
    "    c = 2 * math.atan2(math.sqrt(a), math.sqrt(1 - a))\n",
    "    \n",
    "    distance = R * c\n",
    "    return distance"
   ]
  },
  {
   "cell_type": "code",
   "execution_count": 6,
   "id": "4815a86d",
   "metadata": {},
   "outputs": [],
   "source": [
    "from collections import defaultdict\n",
    "\n",
    "def count_apartments_within_range(apt_coords, reference_coords, distance_threshold):\n",
    "   \n",
    "    count_dict = defaultdict(int)\n",
    "\n",
    "    for apt_lat, apt_lon in apt_coords:\n",
    "        for ref_lat, ref_lon in reference_coords:\n",
    "            distance = haversine(apt_lat, apt_lon, ref_lat, ref_lon)\n",
    "            if distance <= distance_threshold:\n",
    "                count_dict[(apt_lat, apt_lon)] += 1  \n",
    "\n",
    "    return count_dict\n"
   ]
  },
  {
   "cell_type": "code",
   "execution_count": 7,
   "id": "aec6f20f",
   "metadata": {},
   "outputs": [],
   "source": [
    "apt_coords = home_list \n",
    "reference_coords = apartment_list  \n",
    "\n",
    "\n",
    "count_dict = count_apartments_within_range(apt_coords, reference_coords, 4)\n",
    "\n",
    "\n",
    "home_data['아파트군'] = home_data.apply(lambda row: count_dict.get((row['long'], row['lat']), 0), axis=1)"
   ]
  },
  {
   "cell_type": "code",
   "execution_count": 8,
   "id": "3b67c40d",
   "metadata": {},
   "outputs": [
    {
     "data": {
      "text/plain": [
       "2     355343\n",
       "3     316901\n",
       "1     120209\n",
       "4     106557\n",
       "5      73871\n",
       "6      48740\n",
       "7      40969\n",
       "8      27710\n",
       "0      24444\n",
       "9      11956\n",
       "10      1498\n",
       "Name: 아파트군, dtype: int64"
      ]
     },
     "execution_count": 8,
     "metadata": {},
     "output_type": "execute_result"
    }
   ],
   "source": [
    "home_data['아파트군'].value_counts()"
   ]
  },
  {
   "cell_type": "code",
   "execution_count": 9,
   "id": "b00c0af7",
   "metadata": {},
   "outputs": [
    {
     "data": {
      "text/plain": [
       "아파트군\n",
       "0      55178.355506\n",
       "1      51734.071243\n",
       "2      49657.588561\n",
       "3      52319.140072\n",
       "4      57906.200325\n",
       "5      72805.738977\n",
       "6      86930.519922\n",
       "7      98164.810784\n",
       "8      95286.980512\n",
       "9      88900.829458\n",
       "10    108745.728304\n",
       "Name: target, dtype: float64"
      ]
     },
     "execution_count": 9,
     "metadata": {},
     "output_type": "execute_result"
    }
   ],
   "source": [
    "home_data.groupby(\"아파트군\")[\"target\"].mean()"
   ]
  },
  {
   "cell_type": "code",
   "execution_count": 10,
   "id": "0dce889c",
   "metadata": {},
   "outputs": [
    {
     "name": "stdout",
     "output_type": "stream",
     "text": [
      "상관계수: 0.26867024429380487\n"
     ]
    }
   ],
   "source": [
    "correlation = home_data[\"아파트군\"].corr(home_data[\"target\"])\n",
    "print(f\"상관계수: {correlation}\")\n"
   ]
  }
 ],
 "metadata": {
  "kernelspec": {
   "display_name": "base",
   "language": "python",
   "name": "python3"
  },
  "language_info": {
   "codemirror_mode": {
    "name": "ipython",
    "version": 3
   },
   "file_extension": ".py",
   "mimetype": "text/x-python",
   "name": "python",
   "nbconvert_exporter": "python",
   "pygments_lexer": "ipython3",
   "version": "3.10.13"
  }
 },
 "nbformat": 4,
 "nbformat_minor": 5
}
