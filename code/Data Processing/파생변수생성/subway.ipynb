{
 "cells": [
  {
   "cell_type": "code",
   "execution_count": null,
   "id": "4061640e",
   "metadata": {},
   "outputs": [],
   "source": [
    "subway = pl.read_csv('subway_feature.csv')\n",
    "subway = subway.rename({'경도':'X','위도':'Y'})\n",
    "subway = subway.group_by(['역사명', '호선']).agg(\n",
    "    pl.col('X').mean(),\n",
    "    pl.col('Y').mean()\n",
    ")\n",
    "\n",
    "# degrees to radians\n",
    "main_coords = np.radians(main.select(['lat', 'long']).to_numpy())\n",
    "subway_coords = np.radians(subway.select(['Y', 'X']).to_numpy())  \n",
    "test_coords = np.radians(test.select(['lat', 'long']).to_numpy())\n",
    "\n",
    "# haversine formula\n",
    "def haversine(a, b):\n",
    "    dlat = b[:, None, 0] - a[None, :, 0]\n",
    "    dlon = b[:, None, 1] - a[None, :, 1]\n",
    "    r = 6371  \n",
    "\n",
    "    hav = (\n",
    "        np.sin(dlat / 2)**2\n",
    "        + np.cos(a[None, :, 0]) * np.cos(b[:, None, 0]) * np.sin(dlon / 2)**2\n",
    "    )\n",
    "    return 2 * r * np.arcsin(np.sqrt(hav)).T  \n",
    "\n",
    "sub_dists = haversine(main_coords, subway_coords) \n",
    "test_dists = haversine(test_coords, subway_coords) \n",
    "\n",
    "condition = sub_dists <= 1\n",
    "counts = condition.sum(axis=1)\n",
    "condition2 = test_dists <= 1\n",
    "test_counts = condition2.sum(axis=1)\n",
    "main = main.with_columns(\n",
    "    pl.Series(\"nearby_subway_count\", counts)\n",
    ")\n",
    "test = test.with_columns(\n",
    "    pl.Series(\"nearby_subway_count\", test_counts)\n",
    ")"
   ]
  }
 ],
 "metadata": {
  "kernelspec": {
   "display_name": "rapids-25.04",
   "language": "python",
   "name": "python3"
  },
  "language_info": {
   "name": "python",
   "version": "3.10.17"
  }
 },
 "nbformat": 4,
 "nbformat_minor": 5
}
