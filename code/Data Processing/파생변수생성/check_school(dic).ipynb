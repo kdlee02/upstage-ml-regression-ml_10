{
 "cells": [
  {
   "cell_type": "code",
   "execution_count": 1,
   "id": "b3e8f037",
   "metadata": {},
   "outputs": [],
   "source": [
    "import pandas as pd\n",
    "\n",
    "def xymaker(df):\n",
    "    df[\"long\"] = df[\"long\"].round(5)\n",
    "    df[\"lat\"] = df[\"lat\"].round(5)\n",
    "    \n",
    "    unique_df = df.drop_duplicates(subset=[\"long\", \"lat\"])\n",
    "    return unique_df[[\"long\", \"lat\"]].values.tolist()"
   ]
  },
  {
   "cell_type": "code",
   "execution_count": null,
   "id": "de6acdc1",
   "metadata": {},
   "outputs": [],
   "source": [
    "import pandas as pd\n",
    "\n",
    "def xymaker(df):\n",
    "    df[\"long\"] = df[\"long\"].round(5)\n",
    "    df[\"lat\"] = df[\"lat\"].round(5)\n",
    "    \n",
    "    unique_df = df.drop_duplicates(subset=[\"long\", \"lat\"])\n",
    "    return unique_df[[\"long\", \"lat\"]].values.tolist()"
   ]
  },
  {
   "cell_type": "code",
   "execution_count": 2,
   "id": "5bea7e9c",
   "metadata": {},
   "outputs": [],
   "source": [
    "import pandas as pd\n",
    "\n",
    "def xymaker(df):\n",
    "    df[\"long\"] = df[\"long\"].round(5)\n",
    "    df[\"lat\"] = df[\"lat\"].round(5)\n",
    "    \n",
    "    unique_df = df.drop_duplicates(subset=[\"long\", \"lat\"])\n",
    "    return unique_df[[\"long\", \"lat\"]].values.tolist()"
   ]
  },
  {
   "cell_type": "code",
   "execution_count": 3,
   "id": "96c9af34",
   "metadata": {},
   "outputs": [
    {
     "name": "stderr",
     "output_type": "stream",
     "text": [
      "/tmp/ipykernel_506963/886316247.py:1: DtypeWarning: Columns (10,13,14,16,17) have mixed types. Specify dtype option on import or set low_memory=False.\n",
      "  home_data = pd.read_csv(\"main.csv\")\n"
     ]
    },
    {
     "data": {
      "text/plain": [
       "[[127.05609, 37.48463],\n",
       " [127.07613, 37.49629],\n",
       " [127.05785, 37.48029],\n",
       " [127.06903, 37.48791],\n",
       " [127.07087, 37.48914],\n",
       " [127.03827, 37.51509],\n",
       " [127.02898, 37.51386],\n",
       " [127.03842, 37.50953],\n",
       " [127.05885, 37.49664]]"
      ]
     },
     "execution_count": 3,
     "metadata": {},
     "output_type": "execute_result"
    }
   ],
   "source": [
    "home_data = pd.read_csv(\"main.csv\")\n",
    "\n",
    "home_list = xymaker(home_data)\n",
    "\n",
    "home_list[1:10]"
   ]
  },
  {
   "cell_type": "code",
   "execution_count": 4,
   "id": "f12e37fb",
   "metadata": {},
   "outputs": [],
   "source": [
    "school_list = [\n",
    "    [127.02145, 37.50629],  # 중동고등학교\n",
    "    [127.03775, 37.66705],  # 선덕고등학교\n",
    "    [126.99065, 37.48766],  # 세화고등학교\n",
    "    [127.12225, 37.49712],  # 보인고등학교\n",
    "    [127.03377, 37.50192],  # 휘문고등학교\n",
    "    [127.04745, 37.49894],  # 단국대사범대부속고등학교\n",
    "    [126.99095, 37.49342],  # 상문고등학교\n",
    "    [127.01600, 37.49655],  # 숙명여자고등학교\n",
    "    [127.05888, 37.51083],  # 영동고등학교\n",
    "    [127.04660, 37.50290],  # 중산고등학교\n",
    "    [126.99065, 37.48766],  # 세화여자고등학교\n",
    "    [127.00565, 37.50345],  # 반포고등학교\n",
    "    [127.06580, 37.65225],  # 대진고등학교\n",
    "    [126.85235, 37.55310],  # 명덕고등학교\n",
    "    [126.87090, 37.52485],  # 양정고등학교\n",
    "    [127.04565, 37.49375],  # 중앙대사범대부속고등학교\n",
    "    [127.11610, 37.50870],  # 잠신고등학교\n",
    "    [126.98990, 37.55815],  # 이화여자고등학교\n",
    "    [127.06580, 37.65225],  # 대진여자고등학교\n",
    "    [126.98480, 37.49620],  # 서울고등학교\n",
    "    [126.97430, 37.57305],  # 중앙고등학교\n",
    "    [127.04825, 37.49390],  # 경기고등학교\n",
    "    [127.01470, 37.63300],  # 경복고등학교\n",
    "    [126.95180, 37.49610],  # 숭실고등학교\n",
    "    [127.01350, 37.58940],  # 동성고등학교\n",
    "    [127.13260, 37.54640],  # 한영고등학교\n",
    "    [127.07020, 37.65710],  # 오현고등학교\n",
    "    [126.89490, 37.57700],  # 상암고등학교\n",
    "    [126.94230, 37.57990],  # 한성과학고등학교\n",
    "]"
   ]
  },
  {
   "cell_type": "code",
   "execution_count": 5,
   "id": "a34e983b",
   "metadata": {},
   "outputs": [],
   "source": [
    "import math\n",
    "\n",
    "def haversine(lat1, lon1, lat2, lon2):\n",
    "    R = 6371.0\n",
    "    \n",
    "    lat1_rad = math.radians(lat1)\n",
    "    lon1_rad = math.radians(lon1)\n",
    "    lat2_rad = math.radians(lat2)\n",
    "    lon2_rad = math.radians(lon2)\n",
    "\n",
    "    dlat = lat2_rad - lat1_rad\n",
    "    dlon = lon2_rad - lon1_rad\n",
    "    \n",
    "    a = math.sin(dlat / 2)**2 + math.cos(lat1_rad) * math.cos(lat2_rad) * math.sin(dlon / 2)**2\n",
    "    c = 2 * math.atan2(math.sqrt(a), math.sqrt(1 - a))\n",
    "    \n",
    "    distance = R * c\n",
    "    return distance"
   ]
  },
  {
   "cell_type": "code",
   "execution_count": 6,
   "id": "4815a86d",
   "metadata": {},
   "outputs": [],
   "source": [
    "from collections import defaultdict\n",
    "\n",
    "def count_apartments_within_range(apt_coords, reference_coords, distance_threshold):\n",
    "    # 아파트 좌표별로 근접한 기준 좌표 수를 기록할 딕셔너리\n",
    "    count_dict = defaultdict(int)\n",
    "\n",
    "    for apt_lat, apt_lon in apt_coords:\n",
    "        for ref_lat, ref_lon in reference_coords:\n",
    "            distance = haversine(apt_lat, apt_lon, ref_lat, ref_lon)\n",
    "            if distance <= distance_threshold:\n",
    "                count_dict[(apt_lat, apt_lon)] += 1  # (long, lat) 순으로 저장\n",
    "\n",
    "    return count_dict\n"
   ]
  },
  {
   "cell_type": "code",
   "execution_count": 7,
   "id": "e6b91f21",
   "metadata": {},
   "outputs": [],
   "source": [
    "results = count_apartments_within_range(home_list, school_list, 3)"
   ]
  },
  {
   "cell_type": "code",
   "execution_count": 8,
   "id": "aec6f20f",
   "metadata": {},
   "outputs": [],
   "source": [
    "apt_coords = home_list # (lat, long)\n",
    "reference_coords = school_list  # 기준 좌표 리스트\n",
    "\n",
    "# 근접 개수 계산\n",
    "count_dict = count_apartments_within_range(apt_coords, reference_coords, 4)\n",
    "\n",
    "# 각 아파트의 학군 개수 저장\n",
    "home_data['학군'] = home_data.apply(lambda row: count_dict.get((row['long'], row['lat']), 0), axis=1)"
   ]
  },
  {
   "cell_type": "code",
   "execution_count": 9,
   "id": "3b67c40d",
   "metadata": {},
   "outputs": [
    {
     "data": {
      "text/plain": [
       "2     256433\n",
       "3     236146\n",
       "1     194314\n",
       "0     114815\n",
       "4     108419\n",
       "5      63663\n",
       "6      45015\n",
       "8      34583\n",
       "7      28350\n",
       "9      21556\n",
       "12     11252\n",
       "11      7275\n",
       "10      6377\n",
       "Name: 학군, dtype: int64"
      ]
     },
     "execution_count": 9,
     "metadata": {},
     "output_type": "execute_result"
    }
   ],
   "source": [
    "home_data['학군'].value_counts()"
   ]
  },
  {
   "cell_type": "code",
   "execution_count": 10,
   "id": "b00c0af7",
   "metadata": {},
   "outputs": [
    {
     "data": {
      "text/plain": [
       "학군\n",
       "0      40829.331289\n",
       "1      48963.822319\n",
       "2      52887.499702\n",
       "3      56301.787111\n",
       "4      37533.485551\n",
       "5      57387.474954\n",
       "6      87370.632745\n",
       "7     112550.603845\n",
       "8     121591.062603\n",
       "9     111222.891770\n",
       "10    158559.888192\n",
       "11    106654.810309\n",
       "12    104045.965962\n",
       "Name: target, dtype: float64"
      ]
     },
     "execution_count": 10,
     "metadata": {},
     "output_type": "execute_result"
    }
   ],
   "source": [
    "home_data.groupby(\"학군\")[\"target\"].mean()"
   ]
  },
  {
   "cell_type": "code",
   "execution_count": 11,
   "id": "0dce889c",
   "metadata": {},
   "outputs": [
    {
     "name": "stdout",
     "output_type": "stream",
     "text": [
      "상관계수: 0.38242377049603216\n"
     ]
    }
   ],
   "source": [
    "correlation = home_data[\"학군\"].corr(home_data[\"target\"])\n",
    "print(f\"상관계수: {correlation}\")\n"
   ]
  }
 ],
 "metadata": {
  "kernelspec": {
   "display_name": "base",
   "language": "python",
   "name": "python3"
  },
  "language_info": {
   "codemirror_mode": {
    "name": "ipython",
    "version": 3
   },
   "file_extension": ".py",
   "mimetype": "text/x-python",
   "name": "python",
   "nbconvert_exporter": "python",
   "pygments_lexer": "ipython3",
   "version": "3.10.13"
  }
 },
 "nbformat": 4,
 "nbformat_minor": 5
}
