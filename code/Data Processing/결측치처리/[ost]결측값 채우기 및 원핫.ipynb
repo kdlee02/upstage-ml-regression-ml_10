{
 "cells": [
  {
   "cell_type": "markdown",
   "id": "b6927537",
   "metadata": {},
   "source": [
    "### k-전체세대수 결측값 채우기"
   ]
  },
  {
   "cell_type": "code",
   "execution_count": null,
   "id": "744d8dba",
   "metadata": {},
   "outputs": [],
   "source": [
    "# 1. 아파트명 → 세대수 매핑 딕셔너리 생성\n",
    "apt_to_units = base_df.groupby('아파트명')['k-전체세대수'].first().to_dict()\n",
    "# 2. 결측값 채우기\n",
    "base_df['k-전체세대수'] = base_df['k-전체세대수'].fillna(base_df['아파트명'].map(apt_to_units))\n"
   ]
  },
  {
   "cell_type": "code",
   "execution_count": null,
   "id": "180f785d",
   "metadata": {},
   "outputs": [],
   "source": [
    "# 남은 결측값 확인\n",
    "mask_missing = base_df['k-전체세대수'].isna()\n",
    "\n",
    "# 구 기준 평균으로 채우기\n",
    "dong_mean = base_df.groupby('동')['k-전체세대수'].transform('mean')\n",
    "base_df.loc[mask_missing, 'k-전체세대수'] = dong_mean[mask_missing]"
   ]
  },
  {
   "cell_type": "code",
   "execution_count": null,
   "id": "a06fae83",
   "metadata": {},
   "outputs": [],
   "source": [
    "# 그래도 남으면 전체 중앙값으로\n",
    "base_df['k-전체세대수'] = base_df['k-전체세대수'].fillna(base_df['k-전체세대수'].median())"
   ]
  },
  {
   "cell_type": "markdown",
   "id": "dca50e0f",
   "metadata": {},
   "source": [
    "### k-전체동수 채우기"
   ]
  },
  {
   "cell_type": "code",
   "execution_count": null,
   "id": "80fcdee8",
   "metadata": {},
   "outputs": [],
   "source": [
    "base_df['k-전체동수'] = base_df.groupby(['시군구', '아파트명'])['k-전체동수'].transform(lambda x: x.fillna(method='ffill').fillna(method='bfill'))"
   ]
  },
  {
   "cell_type": "code",
   "execution_count": null,
   "id": "c4ef0d3d",
   "metadata": {},
   "outputs": [],
   "source": [
    "# 1. 기존 데이터에서 동당 평균 세대 수 계산 (결측치 없는 행 기준)\n",
    "valid = base_df[base_df['k-전체동수'].notnull() & base_df['k-전체세대수'].notnull()]\n",
    "\n",
    "# 동당 평균 세대 수\n",
    "avg_households_per_building = (valid['k-전체세대수'] / valid['k-전체동수']).mean()\n",
    "\n",
    "print(f\"동당 평균 세대 수 (계산 기준): {avg_households_per_building:.2f}\")\n",
    "\n",
    "# 2. 결측치 대체: k-전체세대수를 기반으로 추정된 전체동수로 대체\n",
    "def estimate_total_buildings(row):\n",
    "    if pd.isnull(row['k-전체동수']) and pd.notnull(row['k-전체세대수']):\n",
    "        return round(row['k-전체세대수'] / avg_households_per_building)\n",
    "    return row['k-전체동수']\n",
    "\n",
    "base_df['k-전체동수'] = base_df.apply(estimate_total_buildings, axis=1)"
   ]
  },
  {
   "cell_type": "markdown",
   "id": "46de5a2b",
   "metadata": {},
   "source": [
    "### 원핫 인코딩"
   ]
  },
  {
   "cell_type": "code",
   "execution_count": null,
   "id": "2a029e34",
   "metadata": {},
   "outputs": [],
   "source": [
    "onehot_cols =[ 'k-난방방식','k-세대타입(분양형태)','세대전기계약방법', 'k-단지분류(아파트,주상복합등등)', '기타/의무/임대/임의=1/2/3/4','k-복도유형']"
   ]
  },
  {
   "cell_type": "code",
   "execution_count": null,
   "id": "5b8d7296",
   "metadata": {},
   "outputs": [],
   "source": [
    "def one_hot_encode_train_test(train_df, test_df, columns):\n",
    "    # train과 test 합치기 (인코딩 컬럼 구조 통일을 위해)\n",
    "    train_df['__is_train__'] = 1\n",
    "    test_df['__is_train__'] = 0\n",
    "    combined = pd.concat([train_df, test_df], axis=0)\n",
    "\n",
    "    # get_dummies로 인코딩\n",
    "    combined_encoded = pd.get_dummies(combined, columns=columns, drop_first=True)\n",
    "\n",
    "    # 다시 분리\n",
    "    train_encoded = combined_encoded[combined_encoded['__is_train__'] == 1].drop(columns='__is_train__')\n",
    "    test_encoded = combined_encoded[combined_encoded['__is_train__'] == 0].drop(columns='__is_train__')\n",
    "\n",
    "    return train_encoded, test_encoded\n",
    "\n",
    "dt_train_encoded, dt_test_encoded = one_hot_encode_train_test(dt_train.copy(), dt_test.copy(), onehot_cols)"
   ]
  },
  {
   "cell_type": "code",
   "execution_count": null,
   "id": "694345c8",
   "metadata": {},
   "outputs": [
    {
     "name": "stderr",
     "output_type": "stream",
     "text": [
      "100%|██████████| 5/5 [00:01<00:00,  3.73it/s]\n"
     ]
    }
   ],
   "source": [
    "# 아래에서 범주형 변수들을 대상으로 레이블인코딩을 진행해 주겠습니다.= \n",
    "# 각 변수에 대한 LabelEncoder를 저장할 딕셔너리\n",
    "label_encoders = {}\n",
    "label_encoding_cols = [col for col in categorical_columns_v2 if col not in onehot_cols]\n",
    "\n",
    "# Implement Label Encoding\n",
    "for col in tqdm( label_encoding_cols ):\n",
    "    lbl = LabelEncoder()\n",
    "\n",
    "    # Label-Encoding을 fit\n",
    "    lbl.fit( dt_train_encoded[col].astype(str) )\n",
    "    dt_train_encoded[col] = lbl.transform(dt_train_encoded[col].astype(str))\n",
    "    label_encoders[col] = lbl           # 나중에 후처리를 위해 레이블인코더를 저장해주겠습니다.\n",
    "\n",
    "    # Test 데이터에만 존재하는 새로 출현한 데이터를 신규 클래스로 추가해줍니다.\n",
    "    for label in np.unique(dt_test_encoded[col]):\n",
    "      if label not in lbl.classes_: # unseen label 데이터인 경우\n",
    "        lbl.classes_ = np.append(lbl.classes_, label) # 미처리 시 ValueError발생하니 주의하세요!\n",
    "\n",
    "    dt_test_encoded[col] = lbl.transform(dt_test_encoded[col].astype(str))"
   ]
  }
 ],
 "metadata": {
  "kernelspec": {
   "display_name": "base",
   "language": "python",
   "name": "python3"
  },
  "language_info": {
   "name": "python",
   "version": "3.10.13"
  }
 },
 "nbformat": 4,
 "nbformat_minor": 5
}
