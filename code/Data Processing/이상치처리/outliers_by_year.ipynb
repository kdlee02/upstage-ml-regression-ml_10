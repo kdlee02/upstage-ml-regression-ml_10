{
 "cells": [
  {
   "cell_type": "code",
   "execution_count": null,
   "id": "dc60892b",
   "metadata": {},
   "outputs": [],
   "source": [
    "from sklearn.ensemble import IsolationForest\n",
    "\n",
    "groupbyear = main.group_by(['아파트명','전용면적','year']).agg(pl.col('target').mean()).sort(['year','target'])\n",
    "\n",
    "def detect_outliers(group):\n",
    "    model = IsolationForest(contamination=0.005)\n",
    "    preds = model.fit_predict(group.to_numpy().reshape(-1, 1))\n",
    "    return [True if pred == -1 else False for pred in preds]\n",
    "\n",
    "yearlist = []\n",
    "\n",
    "for i in groupbyear.select(['year']).unique().to_series().to_list():\n",
    "    val = groupbyear.filter(pl.col('year') == i).select(['target'])\n",
    "    val = detect_outliers(val)\n",
    "    yearlist.extend(val)\n",
    "\n",
    "groupbyear = groupbyear.with_columns(\n",
    "    is_outlier=pl.Series(yearlist)\n",
    ")"
   ]
  },
  {
   "cell_type": "code",
   "execution_count": null,
   "id": "861d6502",
   "metadata": {},
   "outputs": [],
   "source": [
    "groupbyear.plot.tick(\n",
    "    x='year:T',\n",
    "    y='target',\n",
    "    tooltip=['아파트명'],\n",
    "    color = 'is_outlier'\n",
    ")"
   ]
  },
  {
   "cell_type": "code",
   "execution_count": null,
   "id": "3c2fd973",
   "metadata": {},
   "outputs": [],
   "source": [
    "outliers = groupbyear.filter(pl.col('is_outlier') == True)['아파트명'].unique().to_list()\n",
    "main = main.with_columns(\n",
    "    pl.when(\n",
    "        pl.col('아파트명').is_in(outliers)\n",
    "    ).then(1)\n",
    "    .otherwise(0)\n",
    "    .alias('outliers')\n",
    ")\n",
    "\n",
    "test = test.with_columns(\n",
    "    pl.when(\n",
    "        pl.col('아파트명').is_in(outliers)\n",
    "    ).then(1)\n",
    "    .otherwise(0)\n",
    "    .alias('outliers')\n",
    ")"
   ]
  }
 ],
 "metadata": {
  "kernelspec": {
   "display_name": "rapids-25.04",
   "language": "python",
   "name": "python3"
  },
  "language_info": {
   "name": "python",
   "version": "3.10.17"
  }
 },
 "nbformat": 4,
 "nbformat_minor": 5
}
